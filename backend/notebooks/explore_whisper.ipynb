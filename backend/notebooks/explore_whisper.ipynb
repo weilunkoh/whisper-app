{
 "cells": [
  {
   "cell_type": "markdown",
   "metadata": {},
   "source": [
    "### Simple exploration with Sample Data"
   ]
  },
  {
   "cell_type": "code",
   "execution_count": 1,
   "metadata": {},
   "outputs": [],
   "source": [
    "import sqlite3\n",
    "import ffmpeg"
   ]
  },
  {
   "cell_type": "code",
   "execution_count": 3,
   "metadata": {},
   "outputs": [
    {
     "name": "stderr",
     "output_type": "stream",
     "text": [
      "Device set to use cuda:0\n"
     ]
    }
   ],
   "source": [
    "import torch\n",
    "from transformers import AutoModelForSpeechSeq2Seq, AutoProcessor, pipeline\n",
    "\n",
    "\n",
    "device = \"cuda:0\" if torch.cuda.is_available() else \"cpu\"\n",
    "torch_dtype = torch.float16 if torch.cuda.is_available() else torch.float32\n",
    "\n",
    "model_id = \"openai/whisper-tiny\"\n",
    "model = AutoModelForSpeechSeq2Seq.from_pretrained(\n",
    "    model_id, torch_dtype=torch_dtype, low_cpu_mem_usage=True, use_safetensors=True\n",
    ")\n",
    "model.to(device)\n",
    "\n",
    "processor = AutoProcessor.from_pretrained(model_id)\n",
    "\n",
    "pipe = pipeline(\n",
    "    \"automatic-speech-recognition\",\n",
    "    model=model,\n",
    "    tokenizer=processor.tokenizer,\n",
    "    feature_extractor=processor.feature_extractor,\n",
    "    torch_dtype=torch_dtype,\n",
    "    device=device,\n",
    "    return_timestamps=True\n",
    ")"
   ]
  },
  {
   "cell_type": "code",
   "execution_count": 6,
   "metadata": {},
   "outputs": [
    {
     "name": "stderr",
     "output_type": "stream",
     "text": [
      "c:\\Users\\weilu\\anaconda3\\envs\\whisper-app\\Lib\\site-packages\\transformers\\models\\whisper\\generation_whisper.py:512: FutureWarning: The input name `inputs` is deprecated. Please make sure to use `input_features` instead.\n",
      "  warnings.warn(\n"
     ]
    },
    {
     "name": "stdout",
     "output_type": "stream",
     "text": [
      " So that I can't imagine being in my eyes Now as I clap you get a news of my name Think you can run my heart and I forget this Think I'm crying so much, you know why you need And a little one on the other song Guess I didn't want anything Just get right on but you still hit the phone down The old people we know and I think You'll find that I don't want to go back on TV I'm so proud of my mother, don't I? You don't see like that, but I'm never alive to look back at it I'm not strong, I'm not the best I've ever done I'm not that job, but I'm still going to die now That is sleeping on my own, but is it your life? What is that? What do you think? Go back and stand. And you think that is true. I'll do something that should go on You'll see me when you're too late But I'll be ready to see The way that was in the middle of the day Never forget time you told me Why did you let go of me? And I try to make me feel again to the crowd Little water by the wall, and I guess I didn't want anyone to be okay Guess you can't ever do it, but I can still have enough of that Baby, baby, baby, no, baby Yes, you're so good I don't want to love you back Baby, you're so good But my but don't like you She likes everyone\n"
     ]
    }
   ],
   "source": [
    "result = pipe(\"data/WhatsApp Song.mp3\")\n",
    "print(result[\"text\"])"
   ]
  },
  {
   "cell_type": "code",
   "execution_count": 7,
   "metadata": {},
   "outputs": [
    {
     "data": {
      "text/plain": [
       "{'text': \" So that I can't imagine being in my eyes Now as I clap you get a news of my name Think you can run my heart and I forget this Think I'm crying so much, you know why you need And a little one on the other song Guess I didn't want anything Just get right on but you still hit the phone down The old people we know and I think You'll find that I don't want to go back on TV I'm so proud of my mother, don't I? You don't see like that, but I'm never alive to look back at it I'm not strong, I'm not the best I've ever done I'm not that job, but I'm still going to die now That is sleeping on my own, but is it your life? What is that? What do you think? Go back and stand. And you think that is true. I'll do something that should go on You'll see me when you're too late But I'll be ready to see The way that was in the middle of the day Never forget time you told me Why did you let go of me? And I try to make me feel again to the crowd Little water by the wall, and I guess I didn't want anyone to be okay Guess you can't ever do it, but I can still have enough of that Baby, baby, baby, no, baby Yes, you're so good I don't want to love you back Baby, you're so good But my but don't like you She likes everyone\",\n",
       " 'chunks': [{'timestamp': (0.0, 8.0),\n",
       "   'text': \" So that I can't imagine being in my eyes\"},\n",
       "  {'timestamp': (8.0, 15.0),\n",
       "   'text': ' Now as I clap you get a news of my name'},\n",
       "  {'timestamp': (15.0, 22.0),\n",
       "   'text': ' Think you can run my heart and I forget this'},\n",
       "  {'timestamp': (22.0, 29.0),\n",
       "   'text': \" Think I'm crying so much, you know why you need\"},\n",
       "  {'timestamp': (29.0, 0.0), 'text': ''},\n",
       "  {'timestamp': (3.0, 6.0),\n",
       "   'text': \" And a little one on the other song Guess I didn't want anything\"},\n",
       "  {'timestamp': (6.0, 14.0),\n",
       "   'text': ' Just get right on but you still hit the phone down'},\n",
       "  {'timestamp': (14.0, 19.0), 'text': ' The old people we know and I think'},\n",
       "  {'timestamp': (19.0, 25.0),\n",
       "   'text': \" You'll find that I don't want to go back on TV\"},\n",
       "  {'timestamp': (25.0, 0.0), 'text': ''},\n",
       "  {'timestamp': (4.56, 13.28),\n",
       "   'text': \" I'm so proud of my mother, don't I? You don't see like that, but I'm never alive to look back at it\"},\n",
       "  {'timestamp': (13.28, 18.12),\n",
       "   'text': \" I'm not strong, I'm not the best I've ever done\"},\n",
       "  {'timestamp': (18.12, 24.72),\n",
       "   'text': \" I'm not that job, but I'm still going to die now\"},\n",
       "  {'timestamp': (24.72, 0.0), 'text': ''},\n",
       "  {'timestamp': (7.0, 11.0),\n",
       "   'text': ' That is sleeping on my own, but is it your life? What is that?'},\n",
       "  {'timestamp': (11.0, 13.0), 'text': ' What do you think?'},\n",
       "  {'timestamp': (13.0, 18.0), 'text': ' Go back and stand.'},\n",
       "  {'timestamp': (18.0, 23.0), 'text': ' And you think that is true.'},\n",
       "  {'timestamp': (23.0, 0.0), 'text': ''},\n",
       "  {'timestamp': (6.0, 12.0),\n",
       "   'text': \" I'll do something that should go on You'll see me when you're too late\"},\n",
       "  {'timestamp': (12.0, 16.0), 'text': \" But I'll be ready to see\"},\n",
       "  {'timestamp': (16.0, 22.0),\n",
       "   'text': ' The way that was in the middle of the day'},\n",
       "  {'timestamp': (22.0, 25.0), 'text': ' Never forget time you told me'},\n",
       "  {'timestamp': (25.0, 29.0), 'text': ' Why did you let go of me?'},\n",
       "  {'timestamp': (29.0, 0.0), 'text': ''},\n",
       "  {'timestamp': (6.0, 8.0),\n",
       "   'text': ' And I try to make me feel again to the crowd'},\n",
       "  {'timestamp': (14.0, 21.0),\n",
       "   'text': \" Little water by the wall, and I guess I didn't want anyone to be okay Guess you can't ever do it, but I can still have enough of that\"},\n",
       "  {'timestamp': (21.0, 0.0), 'text': ''},\n",
       "  {'timestamp': (5.0, 7.0),\n",
       "   'text': \" Baby, baby, baby, no, baby Yes, you're so good\"},\n",
       "  {'timestamp': (7.0, 10.0), 'text': \" I don't want to love you back\"},\n",
       "  {'timestamp': (10.0, 14.0), 'text': \" Baby, you're so good\"},\n",
       "  {'timestamp': (14.0, 17.0), 'text': \" But my but don't like you\"},\n",
       "  {'timestamp': (17.0, 20.0), 'text': ' She likes everyone'}]}"
      ]
     },
     "execution_count": 7,
     "metadata": {},
     "output_type": "execute_result"
    }
   ],
   "source": [
    "result"
   ]
  },
  {
   "cell_type": "code",
   "execution_count": 4,
   "metadata": {},
   "outputs": [
    {
     "name": "stderr",
     "output_type": "stream",
     "text": [
      "c:\\Users\\weilu\\anaconda3\\envs\\whisper-app\\Lib\\site-packages\\transformers\\models\\whisper\\generation_whisper.py:512: FutureWarning: The input name `inputs` is deprecated. Please make sure to use `input_features` instead.\n",
      "  warnings.warn(\n",
      "Due to a bug fix in https://github.com/huggingface/transformers/pull/28687 transcription using a multilingual Whisper will default to language detection followed by transcription instead of translation to English.This might be a breaking change for your use case. If you want to instead always translate your audio to English, make sure to pass `language='en'`.\n",
      "Passing a tuple of `past_key_values` is deprecated and will be removed in Transformers v4.43.0. You should pass an instance of `EncoderDecoderCache` instead, e.g. `past_key_values=EncoderDecoderCache.from_legacy_cache(past_key_values)`.\n"
     ]
    },
    {
     "name": "stdout",
     "output_type": "stream",
     "text": [
      " My name is Ethan. I was asked to come here by 11. Now it is already 3 p.m. They did not even serve me any food or drinks. Terrible\n"
     ]
    }
   ],
   "source": [
    "result = pipe(\"data/Sample 1.mp3\")\n",
    "print(result[\"text\"])"
   ]
  },
  {
   "cell_type": "code",
   "execution_count": 5,
   "metadata": {},
   "outputs": [
    {
     "name": "stdout",
     "output_type": "stream",
     "text": [
      " Help me! I can't find my parents. They told me to wait for them, but I saw this pretty butterfly and followed it. Now I am lost.\n"
     ]
    }
   ],
   "source": [
    "result = pipe(\"data/Sample 2.mp3\")\n",
    "print(result[\"text\"])"
   ]
  },
  {
   "cell_type": "code",
   "execution_count": 6,
   "metadata": {},
   "outputs": [
    {
     "name": "stdout",
     "output_type": "stream",
     "text": [
      " What should I have for lunch? There's only young tofu, Western, Japanese, economic rice stalls here. I'm sick of the choices here.\n"
     ]
    }
   ],
   "source": [
    "result = pipe(\"data/Sample 3.mp3\")\n",
    "print(result[\"text\"])"
   ]
  },
  {
   "cell_type": "markdown",
   "metadata": {},
   "source": [
    "### Store Transcription in Database"
   ]
  },
  {
   "cell_type": "markdown",
   "metadata": {},
   "source": [
    "Setting up connection to in-memory database"
   ]
  },
  {
   "cell_type": "code",
   "execution_count": 2,
   "metadata": {},
   "outputs": [],
   "source": [
    "from sqlalchemy import create_engine\n",
    "engine = create_engine(\"sqlite:///test.db\")"
   ]
  },
  {
   "cell_type": "markdown",
   "metadata": {},
   "source": [
    "Create table"
   ]
  },
  {
   "cell_type": "code",
   "execution_count": 3,
   "metadata": {},
   "outputs": [],
   "source": [
    "from sqlalchemy import MetaData\n",
    "metadata_obj = MetaData()"
   ]
  },
  {
   "cell_type": "code",
   "execution_count": 4,
   "metadata": {},
   "outputs": [],
   "source": [
    "from sqlalchemy import Table, Column, Integer, String\n",
    "transcription_table = Table(\n",
    "    \"transcription\",\n",
    "    metadata_obj,\n",
    "    Column(\"id\", Integer, primary_key=True),\n",
    "    Column(\"filename\", String),\n",
    "    Column(\"transcribed_text\", String),\n",
    "    Column(\"timestamp\", Integer),\n",
    ")"
   ]
  },
  {
   "cell_type": "code",
   "execution_count": 5,
   "metadata": {},
   "outputs": [],
   "source": [
    "metadata_obj.create_all(engine)"
   ]
  },
  {
   "cell_type": "markdown",
   "metadata": {},
   "source": [
    "Select from table"
   ]
  },
  {
   "cell_type": "code",
   "execution_count": 6,
   "metadata": {},
   "outputs": [
    {
     "name": "stdout",
     "output_type": "stream",
     "text": [
      "SELECT transcription.id, transcription.filename, transcription.transcribed_text, transcription.timestamp \n",
      "FROM transcription\n",
      " LIMIT :param_1 OFFSET :param_2\n"
     ]
    }
   ],
   "source": [
    "from sqlalchemy import select\n",
    "sel_stmt = select(transcription_table).limit(5).offset(0) #.where(transcription_table.c.filename == \"Sample 1.mp3\")\n",
    "print(sel_stmt)"
   ]
  },
  {
   "cell_type": "code",
   "execution_count": 7,
   "metadata": {},
   "outputs": [],
   "source": [
    "with engine.connect() as conn:\n",
    "    for row in conn.execute(sel_stmt):\n",
    "        print(row)"
   ]
  },
  {
   "cell_type": "code",
   "execution_count": 12,
   "metadata": {},
   "outputs": [
    {
     "name": "stdout",
     "output_type": "stream",
     "text": [
      "[(1, 'Sample 1.mp3', 'Spongebob Squarepants', None)]\n"
     ]
    }
   ],
   "source": [
    "with engine.connect() as conn:\n",
    "    result = conn.execute(sel_stmt)\n",
    "    print(result.fetchall())"
   ]
  },
  {
   "cell_type": "markdown",
   "metadata": {},
   "source": [
    "Insert into table"
   ]
  },
  {
   "cell_type": "code",
   "execution_count": 9,
   "metadata": {},
   "outputs": [
    {
     "name": "stdout",
     "output_type": "stream",
     "text": [
      "INSERT INTO transcription (filename, transcribed_text) VALUES (:filename, :transcribed_text)\n"
     ]
    }
   ],
   "source": [
    "from sqlalchemy import insert\n",
    "ins_stmt = insert(transcription_table).values(\n",
    "    filename=\"Sample 1.mp3\", \n",
    "    transcribed_text=\"Spongebob Squarepants\"\n",
    ")\n",
    "print(ins_stmt)"
   ]
  },
  {
   "cell_type": "code",
   "execution_count": 10,
   "metadata": {},
   "outputs": [],
   "source": [
    "with engine.connect() as conn:\n",
    "    result = conn.execute(ins_stmt)\n",
    "    conn.commit()"
   ]
  },
  {
   "cell_type": "code",
   "execution_count": 11,
   "metadata": {},
   "outputs": [
    {
     "data": {
      "text/plain": [
       "1"
      ]
     },
     "execution_count": 11,
     "metadata": {},
     "output_type": "execute_result"
    }
   ],
   "source": [
    "result.inserted_primary_key[0]"
   ]
  },
  {
   "cell_type": "markdown",
   "metadata": {},
   "source": [
    "Update table"
   ]
  },
  {
   "cell_type": "code",
   "execution_count": 13,
   "metadata": {},
   "outputs": [],
   "source": [
    "from sqlalchemy import update\n",
    "upd_stmt = update(transcription_table).where(\n",
    "    transcription_table.c.id == 1\n",
    ").values(transcribed_text=\"Patrick Star\")"
   ]
  },
  {
   "cell_type": "code",
   "execution_count": 14,
   "metadata": {},
   "outputs": [],
   "source": [
    "with engine.connect() as conn:\n",
    "    result = conn.execute(upd_stmt)\n",
    "    conn.commit()"
   ]
  },
  {
   "cell_type": "markdown",
   "metadata": {},
   "source": [
    "Get count"
   ]
  },
  {
   "cell_type": "code",
   "execution_count": 15,
   "metadata": {},
   "outputs": [
    {
     "name": "stdout",
     "output_type": "stream",
     "text": [
      "1\n"
     ]
    }
   ],
   "source": [
    "from sqlalchemy import func\n",
    "count_stmt = select(func.count(transcription_table.c.id))\n",
    "with engine.connect() as conn:\n",
    "    result = conn.execute(count_stmt)\n",
    "    print(result.scalar())"
   ]
  },
  {
   "cell_type": "markdown",
   "metadata": {},
   "source": [
    "### Get Machine Time"
   ]
  },
  {
   "cell_type": "code",
   "execution_count": 100,
   "metadata": {},
   "outputs": [
    {
     "name": "stdout",
     "output_type": "stream",
     "text": [
      "1735058138589\n"
     ]
    }
   ],
   "source": [
    "import time\n",
    "\n",
    "# using now() to get current time in millisecond\n",
    "current_time = int(time.time() * 1000)\n",
    "print(current_time)"
   ]
  },
  {
   "cell_type": "code",
   "execution_count": 102,
   "metadata": {},
   "outputs": [
    {
     "name": "stdout",
     "output_type": "stream",
     "text": [
      "Current Time is : 2024-12-25 00:35:38\n"
     ]
    }
   ],
   "source": [
    "curr_time = time.strftime(\"%Y-%m-%d %H:%M:%S\", time.localtime(current_time / 1000))\n",
    "\n",
    "print(\"Current Time is :\", curr_time)"
   ]
  }
 ],
 "metadata": {
  "kernelspec": {
   "display_name": "whisper-app",
   "language": "python",
   "name": "python3"
  },
  "language_info": {
   "codemirror_mode": {
    "name": "ipython",
    "version": 3
   },
   "file_extension": ".py",
   "mimetype": "text/x-python",
   "name": "python",
   "nbconvert_exporter": "python",
   "pygments_lexer": "ipython3",
   "version": "3.11.11"
  }
 },
 "nbformat": 4,
 "nbformat_minor": 2
}
